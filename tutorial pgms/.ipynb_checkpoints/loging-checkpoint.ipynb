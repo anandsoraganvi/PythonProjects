{
 "cells": [
  {
   "cell_type": "code",
   "execution_count": 28,
   "metadata": {},
   "outputs": [],
   "source": [
    "import logging\n",
    "import time\n"
   ]
  },
  {
   "cell_type": "code",
   "execution_count": 33,
   "metadata": {},
   "outputs": [
    {
     "name": "stderr",
     "output_type": "stream",
     "text": [
      "root:DEBUG:This is Debug message\n",
      "root:DEBUG:This is Debug message\n",
      "root:DEBUG:This is Debug message\n",
      "root:INFO:This is Info message\n",
      "root:INFO:This is Info message\n",
      "root:INFO:This is Info message\n",
      "root:WARNING:This is Warning message\n",
      "root:WARNING:This is Warning message\n",
      "root:WARNING:This is Warning message\n",
      "root:ERROR:This is Error message\n",
      "root:ERROR:This is Error message\n",
      "root:ERROR:This is Error message\n",
      "root:CRITICAL:This is Critical message\n",
      "root:CRITICAL:This is Critical message\n",
      "root:CRITICAL:This is Critical message\n"
     ]
    }
   ],
   "source": [
    "path=\"./\"+\"LogFiles/test.log\"\n",
    "logging.basicConfig(filename=path,format='%(asctime)s: %(levelname)s: %(message)s',datefmt= '%d/%m/%Y %I:%M:%S %p')\n",
    "\n",
    "logger=logging.getLogger()\n",
    "#Usually messages above warning are printed like warning,error and critical and hence we set level to debug\n",
    "logger.setLevel(logging.DEBUG)\n",
    "logging.debug(\"This is Debug message\")\n",
    "logging.info(\"This is Info message\")\n",
    "logging.warning(\"This is Warning message\")\n",
    "logging.error(\"This is Error message\")\n",
    "logging.critical(\"This is Critical message\")"
   ]
  },
  {
   "cell_type": "code",
   "execution_count": 30,
   "metadata": {},
   "outputs": [],
   "source": [
    "import helper\n",
    "logging.basicConfig(filename=path,format='%(asctime)s: %(levelname)s: %(message)s',datefmt= '%d/%m/%Y %I:%M:%S %p')\n",
    "#doesn't proagate to base logger since logger.propagate=False"
   ]
  },
  {
   "cell_type": "code",
   "execution_count": 32,
   "metadata": {},
   "outputs": [
    {
     "name": "stderr",
     "output_type": "stream",
     "text": [
      "root:WARNING:this is warning\n",
      "root:WARNING:this is warning\n",
      "root:WARNING:this is warning\n",
      "root:ERROR:this is error\n",
      "root:ERROR:this is error\n",
      "root:ERROR:this is error\n"
     ]
    }
   ],
   "source": [
    "logger2=logging.getLogger()\n",
    "#Create handler\n",
    "stream_h=logging.StreamHandler()\n",
    "file_h=logging.FileHandler('file.log')#or you can also use path variable from above\n",
    "#level and format\n",
    "formatter=logging.Formatter('%(name)s:%(levelname)s:%(message)s')\n",
    "stream_h.setFormatter(formatter)\n",
    "file_h.setFormatter(formatter)\n",
    "logger2.addHandler(stream_h)\n",
    "logger2.addHandler(file_h)\n",
    "logger2.warning('this is warning')\n",
    "logger2.error('this is error')\n"
   ]
  },
  {
   "cell_type": "code",
   "execution_count": null,
   "metadata": {},
   "outputs": [],
   "source": []
  }
 ],
 "metadata": {
  "kernelspec": {
   "display_name": "Python 3",
   "language": "python",
   "name": "python3"
  },
  "language_info": {
   "codemirror_mode": {
    "name": "ipython",
    "version": 3
   },
   "file_extension": ".py",
   "mimetype": "text/x-python",
   "name": "python",
   "nbconvert_exporter": "python",
   "pygments_lexer": "ipython3",
   "version": "3.7.6"
  }
 },
 "nbformat": 4,
 "nbformat_minor": 4
}
