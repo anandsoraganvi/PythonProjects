{
 "cells": [
  {
   "cell_type": "markdown",
   "metadata": {},
   "source": [
    "## JSON DATA: Java script object  notation: light weight data format for data exchange:heavily used for web exachange python comes with inbuilt JSON data.\n",
    "\n",
    "### JSON comes with key value pair"
   ]
  },
  {
   "cell_type": "code",
   "execution_count": 1,
   "metadata": {},
   "outputs": [],
   "source": [
    "import json"
   ]
  },
  {
   "cell_type": "code",
   "execution_count": 25,
   "metadata": {},
   "outputs": [
    {
     "name": "stdout",
     "output_type": "stream",
     "text": [
      "{\"name\": \"John\", \"age\": 30, \"city\": \"New York\", \"hasChildren\": false, \"titles\": [\"engineer\", \"programmer\"]}\n"
     ]
    }
   ],
   "source": [
    "#JSON encoding or serialization\n",
    "person = {\"name\": \"John\", \"age\": 30, \"city\": \"New York\", \"hasChildren\": False, \"titles\": [\"engineer\", \"programmer\"]}\n",
    "person_json=json.dumps(person)\n",
    "print(person_json)"
   ]
  },
  {
   "cell_type": "code",
   "execution_count": 33,
   "metadata": {},
   "outputs": [
    {
     "name": "stdout",
     "output_type": "stream",
     "text": [
      "{\n",
      "    \"Name\"=\"Kevin\";\n",
      "    \"Age\"=26;\n",
      "    \"Company\"=\"Ford\"\n",
      "}\n"
     ]
    }
   ],
   "source": [
    "mydict=dict(Name=\"Kevin\",Age=26,Company=\"Ford\")\n",
    "mydict_json=json.dumps(mydict,indent=4,separators=(\";\",\"=\"))\n",
    "print(mydict_json)"
   ]
  },
  {
   "cell_type": "code",
   "execution_count": 26,
   "metadata": {},
   "outputs": [
    {
     "name": "stdout",
     "output_type": "stream",
     "text": [
      "{\n",
      "    \"firstName\"=\"Seventh\";\n",
      "    \"lastName\"=\"Galki\";\n",
      "    \"age\"=29;\n",
      "    \"job\"=true\n",
      "}\n"
     ]
    }
   ],
   "source": [
    "A=dict(firstName=\"Seventh\",lastName=\"Galki\",age=29,job=True)\n",
    "A_json=json.dumps(A,indent=4,separators=(\";\",\"=\"))\n",
    "print(A_json)"
   ]
  },
  {
   "cell_type": "code",
   "execution_count": 27,
   "metadata": {},
   "outputs": [
    {
     "name": "stdout",
     "output_type": "stream",
     "text": [
      "{\n",
      "    \"name\"=\"John\";\n",
      "    \"age\"=30;\n",
      "    \"city\"=\"New York\";\n",
      "    \"hasChildren\"=false;\n",
      "    \"titles\"=[\n",
      "        \"engineer\";\n",
      "        \"programmer\"\n",
      "    ]\n",
      "}\n"
     ]
    }
   ],
   "source": [
    "person_json=json.dumps(person,indent=4,separators=(';',\"=\"))\n",
    "print(person_json)"
   ]
  },
  {
   "cell_type": "code",
   "execution_count": 10,
   "metadata": {},
   "outputs": [
    {
     "name": "stdout",
     "output_type": "stream",
     "text": [
      "{\n",
      "    \"name\":\"John\";\n",
      "    \"age\":30;\n",
      "    \"city\":\"New York\";\n",
      "    \"hasChildren\":false;\n",
      "    \"titles\":[\n",
      "        \"engineer\";\n",
      "        \"programmer\"\n",
      "    ]\n",
      "}\n"
     ]
    }
   ],
   "source": [
    "person_json=json.dumps(person,indent=4,separators=(';',\":\"))\n",
    "print(person_json)"
   ]
  },
  {
   "cell_type": "code",
   "execution_count": 11,
   "metadata": {},
   "outputs": [
    {
     "name": "stdout",
     "output_type": "stream",
     "text": [
      "{\n",
      "    \"age\": 30,\n",
      "    \"city\": \"New York\",\n",
      "    \"hasChildren\": false,\n",
      "    \"name\": \"John\",\n",
      "    \"titles\": [\n",
      "        \"engineer\",\n",
      "        \"programmer\"\n",
      "    ]\n",
      "}\n"
     ]
    }
   ],
   "source": [
    "person_json=json.dumps(person,indent=4,sort_keys=True)\n",
    "print(person_json)"
   ]
  },
  {
   "cell_type": "code",
   "execution_count": 28,
   "metadata": {},
   "outputs": [],
   "source": [
    "#dump to file\n",
    "with open('person.json','w') as file:\n",
    "    json.dump(person,file,indent=4)"
   ]
  },
  {
   "cell_type": "code",
   "execution_count": 8,
   "metadata": {},
   "outputs": [
    {
     "ename": "NameError",
     "evalue": "name 'person_json' is not defined",
     "output_type": "error",
     "traceback": [
      "\u001b[1;31m---------------------------------------------------------------------------\u001b[0m",
      "\u001b[1;31mNameError\u001b[0m                                 Traceback (most recent call last)",
      "\u001b[1;32m<ipython-input-8-725277ec01df>\u001b[0m in \u001b[0;36m<module>\u001b[1;34m\u001b[0m\n\u001b[0;32m      1\u001b[0m \u001b[1;31m#loads to load from string\u001b[0m\u001b[1;33m\u001b[0m\u001b[1;33m\u001b[0m\u001b[1;33m\u001b[0m\u001b[0m\n\u001b[1;32m----> 2\u001b[1;33m \u001b[0mperson\u001b[0m\u001b[1;33m=\u001b[0m\u001b[0mjson\u001b[0m\u001b[1;33m.\u001b[0m\u001b[0mloads\u001b[0m\u001b[1;33m(\u001b[0m\u001b[0mperson_json\u001b[0m\u001b[1;33m)\u001b[0m\u001b[1;33m\u001b[0m\u001b[1;33m\u001b[0m\u001b[0m\n\u001b[0m\u001b[0;32m      3\u001b[0m \u001b[0mprint\u001b[0m\u001b[1;33m(\u001b[0m\u001b[0mperson\u001b[0m\u001b[1;33m)\u001b[0m\u001b[1;33m\u001b[0m\u001b[1;33m\u001b[0m\u001b[0m\n",
      "\u001b[1;31mNameError\u001b[0m: name 'person_json' is not defined"
     ]
    }
   ],
   "source": [
    "#loads to load from string\n",
    "person=json.loads(person_json)\n",
    "print(person)"
   ]
  },
  {
   "cell_type": "code",
   "execution_count": 12,
   "metadata": {},
   "outputs": [
    {
     "data": {
      "text/plain": [
       "{'name': 'John',\n",
       " 'age': 30,\n",
       " 'city': 'New York',\n",
       " 'hasChildren': False,\n",
       " 'titles': ['engineer', 'programmer']}"
      ]
     },
     "execution_count": 12,
     "metadata": {},
     "output_type": "execute_result"
    }
   ],
   "source": [
    "person"
   ]
  },
  {
   "cell_type": "code",
   "execution_count": 2,
   "metadata": {},
   "outputs": [
    {
     "name": "stdout",
     "output_type": "stream",
     "text": [
      "{\n",
      "    \"name\"=\"John\";\n",
      "    \"age\"=30;\n",
      "    \"city\"=\"New York\";\n",
      "    \"hasChildren\"=false;\n",
      "    \"titles\"=[\n",
      "        \"engineer\";\n",
      "        \"programmer\"\n",
      "    ]\n",
      "}\n"
     ]
    }
   ],
   "source": [
    "person= {\"name\": \"John\", \"age\": 30, \"city\": \"New York\", \"hasChildren\": False, \"titles\": [\"engineer\", \"programmer\"]}\n",
    "person_json=json.dumps(person,indent=4,separators=(';',\"=\"))\n",
    "print(person_json)"
   ]
  },
  {
   "cell_type": "code",
   "execution_count": 7,
   "metadata": {},
   "outputs": [],
   "source": [
    "with open('person.json','w') as file:\n",
    "    json.dump(person,file,indent=4)\n",
    "\n",
    "\n",
    "\n"
   ]
  },
  {
   "cell_type": "code",
   "execution_count": 9,
   "metadata": {},
   "outputs": [
    {
     "name": "stdout",
     "output_type": "stream",
     "text": [
      "{'name': 'John', 'age': 30, 'city': 'New York', 'hasChildren': False, 'titles': ['engineer', 'programmer']}\n"
     ]
    }
   ],
   "source": [
    "with open('person.json','r') as file:\n",
    "    person=json.load(file)\n",
    "print(person)\n"
   ]
  },
  {
   "cell_type": "code",
   "execution_count": 59,
   "metadata": {},
   "outputs": [
    {
     "name": "stdout",
     "output_type": "stream",
     "text": [
      "{\n",
      "    \"complex\": true,\n",
      "    \"real\": 2.0,\n",
      "    \"img\": 3.0\n",
      "}\n"
     ]
    }
   ],
   "source": [
    "#encoding\n",
    "def type_data(z):\n",
    "    if isinstance(z,complex):\n",
    "        return {z.__class__.__name__:True,\"real\":z.real,\"img\":z.imag}\n",
    "    else: \n",
    "        \n",
    "        raise TypeError(\"type Error %s\"%z.__class__.__name__+\" is not JSON serializable\")\n",
    "\n",
    "c_json=type_data(2+3j)\n",
    "print(json.dumps(c_json,indent=4))\n"
   ]
  },
  {
   "cell_type": "code",
   "execution_count": 65,
   "metadata": {},
   "outputs": [
    {
     "name": "stdout",
     "output_type": "stream",
     "text": [
      "{\n",
      "    \"complex\": true,\n",
      "    \"real\": 3.0,\n",
      "    \"img\": 4.0\n",
      "}\n"
     ]
    }
   ],
   "source": [
    "#or\n",
    "z=3+4j\n",
    "cJson=json.dumps(z,indent=4,default=type_data)\n",
    "print(cJson)"
   ]
  },
  {
   "cell_type": "code",
   "execution_count": 83,
   "metadata": {},
   "outputs": [
    {
     "name": "stdout",
     "output_type": "stream",
     "text": [
      "(3+4j)\n"
     ]
    }
   ],
   "source": [
    "##decoding\n",
    "cmp=json.loads(cJson)\n",
    "\n",
    "def decode(z):\n",
    "    if complex.__name__ in z:\n",
    "        return complex(z['real'],z['img'])\n",
    "print(decode(cmp))"
   ]
  },
  {
   "cell_type": "code",
   "execution_count": 80,
   "metadata": {},
   "outputs": [
    {
     "name": "stdout",
     "output_type": "stream",
     "text": [
      "4.0\n"
     ]
    }
   ],
   "source": [
    "if i in dict.values(cmp):\n",
    "    print(i)"
   ]
  },
  {
   "cell_type": "code",
   "execution_count": null,
   "metadata": {},
   "outputs": [],
   "source": []
  }
 ],
 "metadata": {
  "kernelspec": {
   "display_name": "Python 3",
   "language": "python",
   "name": "python3"
  },
  "language_info": {
   "codemirror_mode": {
    "name": "ipython",
    "version": 3
   },
   "file_extension": ".py",
   "mimetype": "text/x-python",
   "name": "python",
   "nbconvert_exporter": "python",
   "pygments_lexer": "ipython3",
   "version": "3.7.6"
  }
 },
 "nbformat": 4,
 "nbformat_minor": 4
}
