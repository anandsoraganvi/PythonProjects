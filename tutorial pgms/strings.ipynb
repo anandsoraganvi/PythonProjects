{
 "cells": [
  {
   "cell_type": "markdown",
   "metadata": {},
   "source": [
    "# Strings: Ordered,immutable,text representation"
   ]
  },
  {
   "cell_type": "code",
   "execution_count": 2,
   "metadata": {},
   "outputs": [
    {
     "data": {
      "text/plain": [
       "'Anand'"
      ]
     },
     "execution_count": 2,
     "metadata": {},
     "output_type": "execute_result"
    }
   ],
   "source": [
    "str =\"Anand\"\n",
    "str"
   ]
  },
  {
   "cell_type": "code",
   "execution_count": 3,
   "metadata": {},
   "outputs": [
    {
     "data": {
      "text/plain": [
       "'anand'"
      ]
     },
     "execution_count": 3,
     "metadata": {},
     "output_type": "execute_result"
    }
   ],
   "source": [
    "str='anand'\n",
    "str"
   ]
  },
  {
   "cell_type": "code",
   "execution_count": 4,
   "metadata": {},
   "outputs": [
    {
     "data": {
      "text/plain": [
       "\"i'm a programmer\""
      ]
     },
     "execution_count": 4,
     "metadata": {},
     "output_type": "execute_result"
    }
   ],
   "source": [
    "str='i\\'m a programmer' #or str=\"adsad'sdasd\"\n",
    "str"
   ]
  },
  {
   "cell_type": "code",
   "execution_count": 5,
   "metadata": {},
   "outputs": [
    {
     "data": {
      "text/plain": [
       "'dsfdsf\\nfsdfsdf\\nsdf\\nsd\\nfs\\nfsd\\nfsd\\nf'"
      ]
     },
     "execution_count": 5,
     "metadata": {},
     "output_type": "execute_result"
    }
   ],
   "source": [
    "str=\"\"\"dsfdsf\n",
    "fsdfsdf\n",
    "sdf\n",
    "sd\n",
    "fs\n",
    "fsd\n",
    "fsd\n",
    "f\"\"\"\n",
    "str"
   ]
  },
  {
   "cell_type": "code",
   "execution_count": 11,
   "metadata": {},
   "outputs": [
    {
     "name": "stdout",
     "output_type": "stream",
     "text": [
      "H\te\tl\tl\to\t \tW\to\tr\tl\td\t\n",
      "\n",
      "H\te\tl\tl\to\t \tW\to\tr\tl\td\t"
     ]
    }
   ],
   "source": [
    "my_string=\"Hello World\"\n",
    "for i in my_string:\n",
    "    print(i,end=\"\\t\")\n",
    "print(\"\\n\")\n",
    "for j in range(len(my_string)):\n",
    "    print(my_string[j],end=\"\\t\")"
   ]
  },
  {
   "cell_type": "code",
   "execution_count": 14,
   "metadata": {},
   "outputs": [
    {
     "data": {
      "text/plain": [
       "'llo'"
      ]
     },
     "execution_count": 14,
     "metadata": {},
     "output_type": "execute_result"
    }
   ],
   "source": [
    "my_string[2:5]"
   ]
  },
  {
   "cell_type": "code",
   "execution_count": 15,
   "metadata": {},
   "outputs": [
    {
     "ename": "TypeError",
     "evalue": "'str' object does not support item assignment",
     "output_type": "error",
     "traceback": [
      "\u001b[1;31m---------------------------------------------------------------------------\u001b[0m",
      "\u001b[1;31mTypeError\u001b[0m                                 Traceback (most recent call last)",
      "\u001b[1;32m<ipython-input-15-d378ed9d615d>\u001b[0m in \u001b[0;36m<module>\u001b[1;34m\u001b[0m\n\u001b[1;32m----> 1\u001b[1;33m \u001b[0mmy_string\u001b[0m\u001b[1;33m[\u001b[0m\u001b[1;36m2\u001b[0m\u001b[1;33m]\u001b[0m\u001b[1;33m=\u001b[0m\u001b[1;34m's'\u001b[0m\u001b[1;33m\u001b[0m\u001b[1;33m\u001b[0m\u001b[0m\n\u001b[0m",
      "\u001b[1;31mTypeError\u001b[0m: 'str' object does not support item assignment"
     ]
    }
   ],
   "source": [
    "my_string[2]='s'#immuatble"
   ]
  },
  {
   "cell_type": "code",
   "execution_count": 16,
   "metadata": {},
   "outputs": [
    {
     "data": {
      "text/plain": [
       "'llo World'"
      ]
     },
     "execution_count": 16,
     "metadata": {},
     "output_type": "execute_result"
    }
   ],
   "source": [
    "substring=my_string[2:]\n",
    "substring"
   ]
  },
  {
   "cell_type": "code",
   "execution_count": 20,
   "metadata": {},
   "outputs": [
    {
     "name": "stdout",
     "output_type": "stream",
     "text": [
      "dlroW olleH\n"
     ]
    }
   ],
   "source": [
    "#reverse a string by slicing operator\n",
    "print(my_string[::-1])\n"
   ]
  },
  {
   "cell_type": "code",
   "execution_count": 21,
   "metadata": {},
   "outputs": [
    {
     "name": "stdout",
     "output_type": "stream",
     "text": [
      "mynameis Anand\n"
     ]
    }
   ],
   "source": [
    "a=\"my\"\n",
    "b=\"name\"\n",
    "c=\"is Anand\"\n",
    "print(a+b+c)"
   ]
  },
  {
   "cell_type": "code",
   "execution_count": 22,
   "metadata": {},
   "outputs": [
    {
     "name": "stdout",
     "output_type": "stream",
     "text": [
      "my name is Anand\n"
     ]
    }
   ],
   "source": [
    "print(a+\" \"+b+\" \"+c)"
   ]
  },
  {
   "cell_type": "code",
   "execution_count": 24,
   "metadata": {},
   "outputs": [
    {
     "name": "stdout",
     "output_type": "stream",
     "text": [
      "my name is Anand\n"
     ]
    }
   ],
   "source": [
    "print(a,b,c)#automatic spacing"
   ]
  },
  {
   "cell_type": "code",
   "execution_count": 26,
   "metadata": {},
   "outputs": [
    {
     "name": "stdout",
     "output_type": "stream",
     "text": [
      "asdas dasdsa d asd asd asd as das das d asdasdasd\n"
     ]
    }
   ],
   "source": [
    "a=\" asdas dasdsa d asd asd asd as das das d asdasdasd  \"\n",
    "print(a.strip())#removes white space at start and end"
   ]
  },
  {
   "cell_type": "code",
   "execution_count": 31,
   "metadata": {},
   "outputs": [
    {
     "name": "stdout",
     "output_type": "stream",
     "text": [
      "ABCDabcd\n",
      "True\n",
      "False\n"
     ]
    }
   ],
   "source": [
    "a=\"abcd\"\n",
    "print(a.upper()+a.lower())\n",
    "print(a.startswith('a'))\n",
    "print(a.endswith('c'))"
   ]
  },
  {
   "cell_type": "code",
   "execution_count": 33,
   "metadata": {},
   "outputs": [
    {
     "name": "stdout",
     "output_type": "stream",
     "text": [
      "2\n"
     ]
    }
   ],
   "source": [
    "print(a.find('cd'))"
   ]
  },
  {
   "cell_type": "code",
   "execution_count": 35,
   "metadata": {},
   "outputs": [
    {
     "name": "stdout",
     "output_type": "stream",
     "text": [
      "1\n"
     ]
    }
   ],
   "source": [
    "print(a.count('a'))"
   ]
  },
  {
   "cell_type": "code",
   "execution_count": 37,
   "metadata": {},
   "outputs": [
    {
     "name": "stdout",
     "output_type": "stream",
     "text": [
      "efgh\n",
      "abcd\n"
     ]
    }
   ],
   "source": [
    "print(a.replace(\"abcd\",\"efgh\"))\n",
    "print(a)"
   ]
  },
  {
   "cell_type": "code",
   "execution_count": 38,
   "metadata": {},
   "outputs": [
    {
     "name": "stdout",
     "output_type": "stream",
     "text": [
      "my name is Anand\n",
      "['my', 'name', 'is', 'Anand']\n"
     ]
    }
   ],
   "source": [
    "str=\"my name is Anand\"\n",
    "print(str)\n",
    "lst=str.split()#delimiter as space\n",
    "print(lst)"
   ]
  },
  {
   "cell_type": "code",
   "execution_count": 40,
   "metadata": {},
   "outputs": [
    {
     "name": "stdout",
     "output_type": "stream",
     "text": [
      "my,name,is,Anand\n",
      "['my', 'name', 'is', 'Anand']\n"
     ]
    }
   ],
   "source": [
    "str=\"my,name,is,Anand\"\n",
    "print(str)\n",
    "lst=str.split(',')#delimiter as comma\n",
    "print(lst)"
   ]
  },
  {
   "cell_type": "code",
   "execution_count": 50,
   "metadata": {},
   "outputs": [
    {
     "name": "stdout",
     "output_type": "stream",
     "text": [
      "my name is anand\n",
      "m y   n a m e   i s   a n a n d\n",
      "m,y, ,n,a,m,e, ,i,s, ,a,n,a,n,d\n"
     ]
    }
   ],
   "source": [
    "#chain method : this will insert a character at every alternate charachter to string\n",
    "a=\"my name is anand\"\n",
    "print(a)\n",
    "b=\" \".join(a)\n",
    "print(b)\n",
    "c=\",\".join(a)\n",
    "print(c) "
   ]
  },
  {
   "cell_type": "code",
   "execution_count": 52,
   "metadata": {},
   "outputs": [
    {
     "name": "stdout",
     "output_type": "stream",
     "text": [
      "my name is Anand\n",
      "['my', 'name', 'is', 'Anand']\n",
      "my name is Anand\n"
     ]
    }
   ],
   "source": [
    "#chain method is useful to convert list to string\n",
    "a=\"my name is Anand\"\n",
    "b=a.split()\n",
    "print(a)\n",
    "print(b)\n",
    "c=\" \".join(b)\n",
    "print(c)"
   ]
  },
  {
   "cell_type": "code",
   "execution_count": 61,
   "metadata": {},
   "outputs": [
    {
     "name": "stdout",
     "output_type": "stream",
     "text": [
      "['a', 'a', 'a', 'a', 'a', 'a', 'a', 'a', 'a', 'a', 'a', 'a', 'a', 'a', 'a', 'a', 'a', 'a', 'a', 'a']\n",
      "aaaaaaaaaaaaaaaaaaaa\n",
      "0.00012629998673219234\n",
      "a a a a a a a a a a a a a a a a a a a a\n",
      "9.879999561235309e-05\n"
     ]
    }
   ],
   "source": [
    "from timeit import default_timer as t\n",
    "my_list=['a']*20\n",
    "print(my_list)\n",
    "\n",
    "#bad\n",
    "start=t()\n",
    "my_string=''\n",
    "for i in my_list:\n",
    "    my_string+=i#very expensive as its create new string everytime\n",
    "print(my_string)\n",
    "stop=t()\n",
    "print(stop-start)\n",
    "\n",
    "#instead\n",
    "start=t()\n",
    "m=\" \".join(my_list)\n",
    "print(m)#faster way\n",
    "stop=t()\n",
    "print(stop-start)"
   ]
  },
  {
   "cell_type": "code",
   "execution_count": 78,
   "metadata": {},
   "outputs": [
    {
     "name": "stdout",
     "output_type": "stream",
     "text": [
      "the variable is Tom\n",
      "the variable is 1234\n",
      "the variable is 12.346\n"
     ]
    }
   ],
   "source": [
    "#format\n",
    "var=\"Tom\"\n",
    "my_string=\"the variable is %s\" %var\n",
    "print(my_string)\n",
    "var=1234\n",
    "ms=\"the variable is %d\" %var\n",
    "print(ms)\n",
    "var=12.3456789\n",
    "m2=\"the variable is %.3f\" %var\n",
    "print(m2)"
   ]
  },
  {
   "cell_type": "code",
   "execution_count": 72,
   "metadata": {},
   "outputs": [
    {
     "name": "stdout",
     "output_type": "stream",
     "text": [
      "12.3456789\n"
     ]
    }
   ],
   "source": [
    "print(f'{var}')"
   ]
  },
  {
   "cell_type": "code",
   "execution_count": 73,
   "metadata": {},
   "outputs": [
    {
     "name": "stdout",
     "output_type": "stream",
     "text": [
      "the variable is 3.1456\n"
     ]
    }
   ],
   "source": [
    "#format()\n",
    "var=3.1456\n",
    "mystring=\"the variable is {}\".format(var)\n",
    "print(mystring)"
   ]
  },
  {
   "cell_type": "code",
   "execution_count": 74,
   "metadata": {},
   "outputs": [
    {
     "name": "stdout",
     "output_type": "stream",
     "text": [
      "the variable is 3.15\n"
     ]
    }
   ],
   "source": [
    "mystring=\"the variable is {:.2f}\".format(var)\n",
    "print(mystring)"
   ]
  },
  {
   "cell_type": "code",
   "execution_count": 76,
   "metadata": {},
   "outputs": [
    {
     "name": "stdout",
     "output_type": "stream",
     "text": [
      "the variable is 3.15 and 4.5679\n"
     ]
    }
   ],
   "source": [
    "var2=4.56789\n",
    "mystring=\"the variable is {:.2f} and {:.4f}\".format(var,var2)\n",
    "print(mystring)"
   ]
  },
  {
   "cell_type": "code",
   "execution_count": 81,
   "metadata": {},
   "outputs": [
    {
     "name": "stdout",
     "output_type": "stream",
     "text": [
      "the variable is 12.3456789\n",
      "the variable is 37.0370367\n"
     ]
    }
   ],
   "source": [
    "ms=f\"the variable is {var}\"\n",
    "print(ms)\n",
    "ms=f\"the variable is {3*var}\"\n",
    "print(ms)"
   ]
  },
  {
   "cell_type": "code",
   "execution_count": 1,
   "metadata": {},
   "outputs": [
    {
     "name": "stdout",
     "output_type": "stream",
     "text": [
      "a value is mystring and b value is 0.0002 and c value is 2.4567 \n"
     ]
    }
   ],
   "source": [
    "a=\"mystring\"\n",
    "b=0.0002\n",
    "c=2.4567\n",
    "\n",
    "print(\"a value is {} and b value is {} and c value is {} \".format(a,b,c))"
   ]
  },
  {
   "cell_type": "code",
   "execution_count": 3,
   "metadata": {},
   "outputs": [
    {
     "name": "stdout",
     "output_type": "stream",
     "text": [
      "a value is mystring and b value is 0.00 and c value is 2.46 \n"
     ]
    }
   ],
   "source": [
    "print(\"a value is {} and b value is {:.2f} and c value is {:.2f} \".format(a,b,c))"
   ]
  },
  {
   "cell_type": "code",
   "execution_count": 5,
   "metadata": {},
   "outputs": [
    {
     "name": "stdout",
     "output_type": "stream",
     "text": [
      "a value is mystring and b value is 0.00 and c value is 2.457 \n"
     ]
    }
   ],
   "source": [
    "print(\"a value is {} and b value is {:.2f} and c value is {:.3f} \".format(a,b,c))"
   ]
  },
  {
   "cell_type": "code",
   "execution_count": 8,
   "metadata": {},
   "outputs": [
    {
     "name": "stdout",
     "output_type": "stream",
     "text": [
      "a value is mystring and b value is 0.0002 and c value is 2.4567\n"
     ]
    }
   ],
   "source": [
    "print(f\"a value is {a} and b value is {b} and c value is {c}\")"
   ]
  },
  {
   "cell_type": "code",
   "execution_count": 15,
   "metadata": {},
   "outputs": [
    {
     "name": "stdout",
     "output_type": "stream",
     "text": [
      "a value is mystring b value is 0.00 c value is 2\n"
     ]
    }
   ],
   "source": [
    "print(\"a value is %s\"%a+\" b value is %0.2f\"%b+\" c value is %d\"%c) #you can change data type while printiing that will explicit cast"
   ]
  },
  {
   "cell_type": "code",
   "execution_count": 18,
   "metadata": {},
   "outputs": [
    {
     "name": "stdout",
     "output_type": "stream",
     "text": [
      "bcd.com\n",
      "dfg.com\n",
      "hotstar.com\n"
     ]
    }
   ],
   "source": [
    "#exercise: given an email address it should return domain name :passing \"user@domain.com\" would return: domain.com\n",
    "\n",
    "def returndomain(s):\n",
    "    return s.split(\"@\")[-1]\n",
    "\n",
    "a=\"a@bcd.com\"\n",
    "b=\"abcd@dfg.com\"\n",
    "c=\"kevin@hotstar.com\"\n",
    "d=[a,b,c]\n",
    "\n",
    "for i in range(3):\n",
    "    print(returndomain(d[i]))"
   ]
  },
  {
   "cell_type": "code",
   "execution_count": 25,
   "metadata": {},
   "outputs": [
    {
     "data": {
      "text/plain": [
       "['a', 'bcd.com']"
      ]
     },
     "execution_count": 25,
     "metadata": {},
     "output_type": "execute_result"
    }
   ],
   "source": [
    "k=a.split(\"@\")\n",
    "k"
   ]
  },
  {
   "cell_type": "code",
   "execution_count": 26,
   "metadata": {},
   "outputs": [
    {
     "data": {
      "text/plain": [
       "'bcd.com'"
      ]
     },
     "execution_count": 26,
     "metadata": {},
     "output_type": "execute_result"
    }
   ],
   "source": [
    "k[-1]"
   ]
  },
  {
   "cell_type": "markdown",
   "metadata": {},
   "source": [
    "Create a basic function that returns True if the word 'dog' is contained in the input string. Don't worry about edge cases like a punctuation being attached to the word dog, but do account for capitalization."
   ]
  },
  {
   "cell_type": "code",
   "execution_count": 32,
   "metadata": {},
   "outputs": [
    {
     "name": "stdout",
     "output_type": "stream",
     "text": [
      "True\n",
      "False\n",
      "True\n",
      "--------------------------------\n",
      "False\n",
      "False\n",
      "True\n"
     ]
    }
   ],
   "source": [
    "#case\n",
    "def isdogpresent(s):\n",
    "    if \"dog\" in s.lower():\n",
    "        return True\n",
    "    else: return False\n",
    "\n",
    "#this is not correct function as it only accounts dog with space character    \n",
    "def findDog(st):\n",
    "    return 'dog' in st.lower().split()\n",
    "    \n",
    "print(isdogpresent(\"abcdogbfc\"))\n",
    "print(isdogpresent(\"abcdgbfc\"))\n",
    "print(isdogpresent(\"abcdgbfc dog\"))\n",
    "\n",
    "print(\"--------------------------------\")\n",
    "print(findDog(\"abcdogbfc\"))\n",
    "print(findDog(\"abcdgbfc\"))\n",
    "print(findDog(\"abcdgbfc dog\"))"
   ]
  },
  {
   "cell_type": "code",
   "execution_count": 30,
   "metadata": {},
   "outputs": [
    {
     "data": {
      "text/plain": [
       "['asdf', 'fdfs']"
      ]
     },
     "execution_count": 30,
     "metadata": {},
     "output_type": "execute_result"
    }
   ],
   "source": [
    "a=\"asdf fdfs\"\n",
    "a.split()"
   ]
  },
  {
   "cell_type": "code",
   "execution_count": 37,
   "metadata": {},
   "outputs": [
    {
     "name": "stdout",
     "output_type": "stream",
     "text": [
      "3\n"
     ]
    }
   ],
   "source": [
    "#count number of dogs\n",
    "def countDog(s):\n",
    "    count=0\n",
    "    s=s.lower()\n",
    "    L=len(s)\n",
    "    for i in range(L):\n",
    "        if (i<=(L-2)):\n",
    "            if(s[i]=='d'):\n",
    "                if(s[i+1]=='o'):\n",
    "                    if(s[i+2]=='g'):\n",
    "                        count+=1\n",
    "    return count\n",
    "            \n",
    "            \n",
    "\n",
    "print(countDog(\"Dog Dog asddfdog\"))"
   ]
  },
  {
   "cell_type": "code",
   "execution_count": 36,
   "metadata": {},
   "outputs": [
    {
     "data": {
      "text/plain": [
       "['', ' ', ' asddfdog']"
      ]
     },
     "execution_count": 36,
     "metadata": {},
     "output_type": "execute_result"
    }
   ],
   "source": [
    "D=\"Dog Dog asddfdog\"\n",
    "D.split(\"Dog\")"
   ]
  },
  {
   "cell_type": "code",
   "execution_count": null,
   "metadata": {},
   "outputs": [],
   "source": []
  }
 ],
 "metadata": {
  "kernelspec": {
   "display_name": "Python 3",
   "language": "python",
   "name": "python3"
  },
  "language_info": {
   "codemirror_mode": {
    "name": "ipython",
    "version": 3
   },
   "file_extension": ".py",
   "mimetype": "text/x-python",
   "name": "python",
   "nbconvert_exporter": "python",
   "pygments_lexer": "ipython3",
   "version": "3.7.0"
  }
 },
 "nbformat": 4,
 "nbformat_minor": 4
}
